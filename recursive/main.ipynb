{
 "cells": [
  {
   "cell_type": "code",
   "execution_count": 7,
   "metadata": {},
   "outputs": [
    {
     "name": "stdout",
     "output_type": "stream",
     "text": [
      "Columns in dataset: ['account_id', 'calculated_date', 'current_arr', 'future_arr', 'arr_change', 'target_flag', 'segment_smb', 'segment_non_smb', 'segment_commercial', 'segment_enterprise', 'segment_midmarket', 'region_emea', 'region_apac', 'region_latam', 'region_amer', 'customer_age_quarters', 'sales_assisted', 'legacy_flag', 'product_counts', 'billing_dunning_not_ok', 'is_crm_product_mix_paid_support_only', 'crm_success_owner_change', 'cohort_customer_win_month', 'cohort_customer_win_year', 'discount_arr_usd', 'team_plus', 'pro_plus', 'ent_plus', 'is_use_case_IT', 'total_pool_max_agents', 'crm_is_agent_months_M_before', 'max_agents_remaining', 'max_activated_agents_to_date', 'crm_is_agent_months', 'crm_touchpoints', 'crm_event_touchpoints', 'acct_intent_score_6sense', 'total_arr', 'log_total_arr', 'crm_arr', 'paid_chat', 'paid_talk', 'paid_guide', 'months_since_last_upsell', 'months_since_last_downsell', 'late_payments', 'max_agents', 'log_max_agents', 'max_agents_diff', 'log_max_agents_diff', 'max_agents_percentage', 'active_agents', 'num_actions', 'num_comments', 'log_num_actions', 'log_num_comments', 'active_agents_M_before', 'num_actions_diff', 'num_comments_diff', 'log_num_actions_diff', 'log_num_comments_diff', 'num_actions_percentage', 'num_comments_percentage', 'has_light_agents', 'is_provisioned_any_channel', 'max_seats', 'agent_utilization', 'is_provisioned_any_channel_M_before', 'max_seats_M_before', 'agent_utilization_increase', 'agent_utilization_decrease', 'solved_tickets', 'new_tickets_M_before', 'solved_tickets_M_before', 'solved_ticket_diff', 'new_ticket_diff', 'log_solved_ticket_diff', 'log_new_ticket_diff', 'solved_tickets_percentage', 'new_tickets', 'new_tickets_percentage', 'csat_score', 'csat_response_rate', 'nps_score', 'nps_score_all_time', 'avg_nps_rating', 'avg_nps_rating_all_time', 'outreach_call_90dayflag', 'num_low_sev_outages', 'num_high_sev_outages', 'has_high_sev_outage', 'months_since_high_sev_outage', 'num_tickets_deflected', 'num_tickets_deflected_percentage', 'max_tickets_per_agent', 'max_tickets_per_agent_percentage', 'total_hc_views', 'total_hc_views_M_before', 'community_active', 'recent_kb_articles', 'new_kb_views', 'new_kb_views_percentage', 'new_total_searches', 'new_total_searches_percentage', 'hc_increase', 'no_hc', 'no_hc_last_30D', 'multi_hc', 'business_hours_enabled', 'csat_enabled', 'csat_enabled_change', 'num_custom_ticket_fields', 'custom_ticket_fields_engaged', 'custom_ticket_fields_increase', 'num_sla_policies', 'sla_policies_engaged', 'num_ticket_forms', 'ticket_forms_engaged', 'num_user_fields', 'user_fields_engaged', 'num_org_fields', 'org_fields_engaged', 'num_orgs', 'orgs_engaged', 'targets_engaged', 'targets_increased', 'num_automations', 'customer_lists_increased', 'num_macros', 'macros_engaged', 'num_triggers', 'triggers_engaged', 'num_views', 'views_engaged', 'num_total_tags', 'tags_engaged', 'num_app_installs', 'custom_layout_adopted', 'agent_workspace_flag', 'messaging_adopted', 'ocr_enabled', 'cts_activated_prod', 'cts_adopted_prod', 'cts_activated_sandbox', 'cts_adopted_sandbox', 'group_slas_activated', 'group_slas_adopted', 'end_user_csat', 'end_user_csat_response_rate', 'number_widgets', 'number_widgets_diff', 'number_widgets_percentage', 'num_contacts', 'ticket_deflection_rate', 'seat_utilization', 'seat_utilization_M_before', 'seat_utilization_increase', 'seat_utilization_decrease', 'self_service_ratio', 'self_service_ratio_diff', 'agent_productivity', 'agent_productivity_diff', 'is_ssr_above_benchmark', 'is_solved_tickets_above_benchmark', 'is_new_tickets_above_benchmark', 'is_reply_time_above_benchmark', 'is_resolution_time_above_benchmark', 'is_mode_ticket_touches_above_benchmark', 'is_csat_above_benchmark', 'is_csat_response_rate_above_benchmark', 'is_end_user_csat_above_benchmark', 'is_end_user_csat_response_rate_above_benchmark', 'high_seat_and_ticket_ordinal', 'agent_seat_and_ticket_ordinal']\n",
      "hi\n",
      "\n",
      "🔹 Recursive Feature Elimination (RFE) Ranking:\n",
      "                         Feature  RFE_Ranking\n",
      "3                     arr_change            1\n",
      "1                    current_arr            2\n",
      "41      months_since_last_upsell            3\n",
      "2                     future_arr            4\n",
      "35                     total_arr            5\n",
      "..                           ...          ...\n",
      "29          max_agents_remaining          168\n",
      "26                is_use_case_IT          169\n",
      "30  max_activated_agents_to_date          170\n",
      "31           crm_is_agent_months          171\n",
      "15                   legacy_flag          172\n",
      "\n",
      "[172 rows x 2 columns]\n"
     ]
    }
   ],
   "source": [
    "import pandas as pd\n",
    "\n",
    "from sklearn.ensemble import RandomForestClassifier\n",
    "from sklearn.feature_selection import RFE\n",
    "from sklearn.model_selection import train_test_split\n",
    "from sklearn.preprocessing import LabelEncoder\n",
    "\n",
    "df = pd.read_csv(\"dataset_new.csv\")\n",
    "\n",
    "print(\"Columns in dataset:\", list(df.columns))\n",
    "target_col = \"target_flag\"\n",
    "\n",
    "X = df.drop(columns=[target_col, \"calculated_date\"])\n",
    "y = df[target_col]\n",
    "# print(X, y)\n",
    "if y.dtype == 'O':\n",
    "    y = LabelEncoder().fit_transform(y)\n",
    "\n",
    "X_train, X_test, y_train, y_test = train_test_split(X, y, test_size=0.2, random_state=42)\n",
    "\n",
    "model = RandomForestClassifier()\n",
    "rfe = RFE(model, n_features_to_select=1)  \n",
    "rfe.fit(X_train, y_train)\n",
    "print(\"hi\")\n",
    "rfe_importance = pd.DataFrame({\n",
    "    'Feature': X.columns,\n",
    "    'RFE_Ranking': rfe.ranking_\n",
    "}).sort_values(by='RFE_Ranking')\n",
    "\n",
    "print(\"\\n🔹 Recursive Feature Elimination (RFE) Ranking:\")\n",
    "print(rfe_importance)\n",
    "\n",
    "\n",
    "\n"
   ]
  },
  {
   "cell_type": "code",
   "execution_count": 8,
   "metadata": {},
   "outputs": [],
   "source": [
    "rfe_importance.to_csv('new.csv')"
   ]
  }
 ],
 "metadata": {
  "kernelspec": {
   "display_name": "Python 3",
   "language": "python",
   "name": "python3"
  },
  "language_info": {
   "codemirror_mode": {
    "name": "ipython",
    "version": 3
   },
   "file_extension": ".py",
   "mimetype": "text/x-python",
   "name": "python",
   "nbconvert_exporter": "python",
   "pygments_lexer": "ipython3",
   "version": "3.12.9"
  }
 },
 "nbformat": 4,
 "nbformat_minor": 2
}
